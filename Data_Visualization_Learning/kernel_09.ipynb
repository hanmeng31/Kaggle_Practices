{
 "cells": [
  {
   "cell_type": "markdown",
   "metadata": {
    "_cell_guid": "45a9ce14-2be5-429a-a154-58e176579f30",
    "_uuid": "1e25292032a2209244e69cd12a8b22fb887c95a1"
   },
   "source": [
    "<table>\n",
    "<tr>\n",
    "<td><img src=\"https://i.imgur.com/BqJgyzB.png\" width=\"350px\"/></td>\n",
    "<td><img src=\"https://i.imgur.com/ttYzMwD.png\" width=\"350px\"/></td>\n",
    "<td><img src=\"https://i.imgur.com/WLmzj41.png\" width=\"350px\"/></td>\n",
    "<td><img src=\"https://i.imgur.com/LjRTbCn.png\" width=\"350px\"/></td>\n",
    "</tr>\n",
    "<tr>\n",
    "<td style=\"font-weight:bold; font-size:16px;\">Scatter Plot</td>\n",
    "<td style=\"font-weight:bold; font-size:16px;\">Choropleth</td>\n",
    "<td style=\"font-weight:bold; font-size:16px;\">Heatmap</td>\n",
    "<td style=\"font-weight:bold; font-size:16px;\">Surface Plot</td>\n",
    "</tr>\n",
    "<tr>\n",
    "<td>go.Scatter()</td>\n",
    "<td>go.Choropleth()</td>\n",
    "<td>go.Heatmap()</td>\n",
    "<td>go.Surface()</td>\n",
    "</tr>\n",
    "<!--\n",
    "<tr>\n",
    "<td>Good for interval and some nominal categorical data.</td>\n",
    "<td>Good for interval and some nominal categorical data.</td>\n",
    "<td>Good for nominal and ordinal categorical data.</td>\n",
    "<td>Good for ordinal categorical and interval data.</td>\n",
    "</tr>\n",
    "-->\n",
    "</table>\n",
    "\n",
    "# Introduction to plotly\n",
    "\n",
    "So far in this tutorial we have been using `seaborn` and `pandas`, two mature libraries designed around `matplotlib`. These libraries all focus on building \"static\" visualizations: visualizations that have no moving parts. In other words, all of the plots we've built thus far could appear in a dead-tree journal article.\n",
    "\n",
    "The web unlocks a lot of possibilities when it comes to interactivity and animations. There are a number of plotting libraries available which try to provide these features.\n",
    "\n",
    "In this section we will examine `plotly`, an open-source plotting library that's one of the most popular of these libraries."
   ]
  },
  {
   "cell_type": "code",
   "execution_count": null,
   "metadata": {
    "_cell_guid": "9b8ad711-e38a-41e2-9fcb-b5d154769f90",
    "_uuid": "52420188fa124f59ced6540113f620cc3cd55afc",
    "collapsed": true
   },
   "outputs": [],
   "source": [
    "import pandas as pd\n",
    "reviews = pd.read_csv(\"../input/wine-reviews/winemag-data-130k-v2.csv\", index_col=0)\n",
    "reviews.head()"
   ]
  },
  {
   "cell_type": "markdown",
   "metadata": {
    "_cell_guid": "8d46d7cb-0988-413e-b902-a99d5a015839",
    "_uuid": "b070e734a978e127817c74ca4adca8405f3f3bfb"
   },
   "source": [
    "`plotly` provides both online and offline modes. The latter injects the `plotly` source code directly into the notebook; the former does not. I recommend using `plotly` in offline mode the vast majority of the time, and it's the only mode that works on Kaggle (which disables network access in Python)."
   ]
  },
  {
   "cell_type": "code",
   "execution_count": null,
   "metadata": {
    "_cell_guid": "b42c08ea-dddd-4e98-a120-a4b6b01e74ac",
    "_uuid": "7624fa29aed94abded9596a8a4ba7d22fef685e8",
    "collapsed": true
   },
   "outputs": [],
   "source": [
    "from plotly.offline import init_notebook_mode, iplot\n",
    "init_notebook_mode(connected=True)"
   ]
  },
  {
   "cell_type": "markdown",
   "metadata": {
    "_cell_guid": "babfd3fb-e207-4d93-b4e9-e1500ea9cab6",
    "_uuid": "a474cedf0d5c0d600e6586c2471db001bc9d27bb"
   },
   "source": [
    "We'll start by creating a basic scatter plot."
   ]
  },
  {
   "cell_type": "code",
   "execution_count": null,
   "metadata": {
    "_cell_guid": "4468bc49-f470-469d-a09f-4234f6f73dee",
    "_uuid": "183c2193f5e1b9928b952a1dc80781748849d868",
    "collapsed": true
   },
   "outputs": [],
   "source": [
    "import plotly.graph_objs as go\n",
    "\n",
    "iplot([go.Scatter(x=reviews.head(1000)['points'], y=reviews.head(1000)['price'], mode='markers')])"
   ]
  },
  {
   "cell_type": "markdown",
   "metadata": {
    "_cell_guid": "d6442047-ad76-4607-9afa-3a52601b75e1",
    "_uuid": "74c8a5f7c73a4deb2d44f8f3984ca3882c43218b"
   },
   "source": [
    "This chart is fully interactive. We can use the toolbar on the top-right to perform various operations on the data: zooming and panning, for example. When we hover over a data point, we get a tooltip. We can even save the plot as a PNG image.\n",
    "\n",
    "This chart also demonstrates the *disadvantage* of this fancier plotting library. In order to keep performance reasonable, we had to limit ourselves to the first 1000 points in the dataset. While this was necessary anyway (to avoid too much overplotting) it's important to note that in general, interactive graphics are much, much more resource-intensive than static ones. It's easier to \"max out\" how many points of data you can show.\n",
    "\n",
    "Notice the \"shape\" of the `plotly` API. `iplot` takes a list of plot objects and composes them for you, plotting the combined end result. This makes it easy to stack plots.\n",
    "\n",
    "As another example, here's a KDE plot (what `plotly` refers to as a `Histogram2dContour`) *and* scatter plot of the same data."
   ]
  },
  {
   "cell_type": "code",
   "execution_count": null,
   "metadata": {
    "_cell_guid": "5b3d8e61-7dbd-4d02-a70d-11299c36bd81",
    "_uuid": "d956ba3cce86d5600d5f9fca77710ba4447bb670",
    "collapsed": true
   },
   "outputs": [],
   "source": [
    "iplot([go.Histogram2dContour(x=reviews.head(500)['points'], \n",
    "                             y=reviews.head(500)['price'], \n",
    "                             contours=go.Contours(coloring='heatmap')),\n",
    "       go.Scatter(x=reviews.head(1000)['points'], y=reviews.head(1000)['price'], mode='markers')])"
   ]
  },
  {
   "cell_type": "markdown",
   "metadata": {
    "_cell_guid": "559c8fae-fa9a-4a02-b1f9-2c86c21b6dcf",
    "_uuid": "668e3e8d939d6142f26cbf07bedaaf0c86f4f403"
   },
   "source": [
    "`plotly` exposes several different APIs, ranging in complexity from low-level to high-level. `iplot` is the highest-level API, and hence, the most convenient one for general-purpose use.\n",
    "\n",
    "Personally I've always found the `plotly` `Surface` its most impressive feature (albeit one of the hardest to get right):"
   ]
  },
  {
   "cell_type": "code",
   "execution_count": null,
   "metadata": {
    "_cell_guid": "62c744ea-e7e6-46d1-9791-aa25a601c6fc",
    "_uuid": "78420651a1a15690b6862e2b7d12e8c18d11dbe2",
    "collapsed": true
   },
   "outputs": [],
   "source": [
    "df = reviews.assign(n=0).groupby(['points', 'price'])['n'].count().reset_index()\n",
    "df = df[df[\"price\"] < 100]\n",
    "v = df.pivot(index='price', columns='points', values='n').fillna(0).values.tolist()"
   ]
  },
  {
   "cell_type": "code",
   "execution_count": null,
   "metadata": {
    "_cell_guid": "6b24990d-bd0f-404f-b1d1-77c381e3d377",
    "_uuid": "2007916bc2650c5078ebfcb8de324bf8db6c5885",
    "collapsed": true
   },
   "outputs": [],
   "source": [
    "iplot([go.Surface(z=v)])"
   ]
  },
  {
   "cell_type": "markdown",
   "metadata": {
    "_cell_guid": "d5a9c4e5-62c2-44d3-b7a7-6a8723860dbd",
    "_uuid": "308706e1c9ba606117425ef4bf40cfdf770cd8d2"
   },
   "source": [
    "On Kaggle, `plotly` is often used to make **choropleths**. Choropleths are a type of map, where all of the entities (countries, US states, etc.) are colored according to some variable in the dataset. `plotly` is one of the most convenient plotting libraries available for making them."
   ]
  },
  {
   "cell_type": "code",
   "execution_count": null,
   "metadata": {
    "_cell_guid": "78790672-3e3d-4ac5-938e-6a8ed32f0ae5",
    "_uuid": "ab325548cebec6fb6ab7191d7443356436eee65d",
    "collapsed": true
   },
   "outputs": [],
   "source": [
    "df = reviews['country'].replace(\"US\", \"United States\").value_counts()\n",
    "\n",
    "iplot([go.Choropleth(\n",
    "    locationmode='country names',\n",
    "    locations=df.index.values,\n",
    "    text=df.index,\n",
    "    z=df.values\n",
    ")])"
   ]
  },
  {
   "cell_type": "markdown",
   "metadata": {
    "_cell_guid": "43daaad2-16dd-42d2-bce3-b0f83c73cac1",
    "_uuid": "729c43fb2df9210a46d84175c85576d23eba89fd"
   },
   "source": [
    "Overall, `plotly` is a powerful, richly interactive data visualization library. It allows us to generate plots with more \"pizazz\" than standard `pandas` or `seaborn` output.\n",
    "\n",
    "The tradeoff is that while `pandas` and `seaborn` are well-established, `plotly` is still new. As a result, and in particular, `plotly` documentation is much harder to and find and interpret; the office documentation on the `plotly` website uses a mix of different features for plotting, which makes it harder to use than it has to be.\n",
    "\n",
    "Additionally, it's important to recognize when interactivity is useful, and when it is not. The most effective plots do not need to use hovers or tooltips to get their work done. As a result `plotly`, though extremely attractive, is rarely more *useful* than an equivalent plot in `pandas` or `seaborn`."
   ]
  },
  {
   "cell_type": "markdown",
   "metadata": {
    "_cell_guid": "c68ded3f-5465-4751-ae7a-2d2283673cd3",
    "_uuid": "7813bc4745629d9377e41c20ebbaee66842617ab"
   },
   "source": [
    "# Exercises\n",
    "\n",
    "For the following exercise, try forking and running this notebook, and then reproducing the chart that follows. Hint: `Attack` on the x-axis, `Defense` on the y-axis."
   ]
  },
  {
   "cell_type": "code",
   "execution_count": null,
   "metadata": {
    "_cell_guid": "9da906bb-570a-4310-b588-ddf70a91b455",
    "_uuid": "5c635fc13791655c6ee238db817dcb2e7484ce06",
    "collapsed": true
   },
   "outputs": [],
   "source": [
    "import pandas as pd\n",
    "pokemon = pd.read_csv(\"../input/pokemon/Pokemon.csv\")\n",
    "pokemon.head(3)"
   ]
  },
  {
   "cell_type": "code",
   "execution_count": null,
   "metadata": {
    "_cell_guid": "4c9bf0c6-96f2-4310-b597-72d8b86a9748",
    "_kg_hide-input": true,
    "_uuid": "f9f118fd4eb654d362e648cd0746cd9afd1fc3e8",
    "collapsed": true
   },
   "outputs": [],
   "source": [
    "import plotly.graph_objs as go\n",
    "\n",
    "iplot([go.Scatter(x=pokemon['Attack'], y=pokemon['Defense'], mode='markers')])"
   ]
  },
  {
   "cell_type": "markdown",
   "metadata": {
    "_cell_guid": "66d2b4c0-bb54-4a9b-afd7-8df979071ddc",
    "_uuid": "0fe0f07097660ca03d24f10177a94084e34a15a4"
   },
   "source": [
    "# Conclusion\n",
    "\n",
    "In this section we looked at `plotly`, an interactive plotting library that produces very attractive-looking charts. It is one of a number of alternatives to `matplotlib`-based tools that provide first-class interactivity (`bokeh` is another one worth mentioning).\n",
    "\n",
    "In the next section we'll look at another plotting library, `plotnine`, which is designed around a peculiar but powerful idea called the **grammar of graphics**.\n",
    "\n",
    "[Click here to go the next section, \"Grammar of graphics with plotnine\"](https://www.kaggle.com/residentmario/grammer-of-graphics-with-plotnine-optional)."
   ]
  }
 ],
 "metadata": {
  "kernelspec": {
   "display_name": "Python 3",
   "language": "python",
   "name": "python3"
  },
  "language_info": {
   "codemirror_mode": {
    "name": "ipython",
    "version": 3
   },
   "file_extension": ".py",
   "mimetype": "text/x-python",
   "name": "python",
   "nbconvert_exporter": "python",
   "pygments_lexer": "ipython3",
   "version": "3.6.8"
  }
 },
 "nbformat": 4,
 "nbformat_minor": 1
}
