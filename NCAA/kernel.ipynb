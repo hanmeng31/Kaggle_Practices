{
  "cells": [
    {
      "metadata": {
        "_cell_guid": "914eeda7-5cf6-4a86-830f-ab578521de76",
        "_uuid": "9fff56981cc34a4edd7974f0bb567e8e37e7c04e"
      },
      "cell_type": "markdown",
      "source": "## Introduction\nIn this kernel, I'll demonstrate how to use Sohier's [BigQuery helper module](https://github.com/SohierDane/BigQuery_Helper/blob/master/bq_helper.py) to safely query the largest BigQuery dataset we've made available on Kaggle, [GitHub Repos](https://www.kaggle.com/github/github-repos). Weighing in at 3TB total, you can see how it would be easy for me to quickly exhaust my 5TB/30-day quota scanning lots of large tables. \n\nThe `bq_helper` module simplifies the common read-only tasks we can do using the BigQuery Python client library on Kaggle and makes it a cinch to manage resource usage. This helper class works only in Kernels because we handle authentication on our side. This means you don't need to worry about anything like managing credentials or entering in credit card information to have fun learning how to work with BigQuery datasets.\n\nYou'll learn how to do the following:\n\n1. Create a `BigQueryHelper` object\n2. Understand the tables in the dataset\n3. Estimate the size of your queries before you make them\n4. Query safely, convert to `pandas.dataframe`, and visualize results\n\nBy the end of this kernel, you'll not only learn a lot about querying BigQuery datasets safely, but we'll also find out the most popular licenses used by open source projects on GitHub. Let's go!"
    },
    {
      "metadata": {
        "_cell_guid": "59efc37f-82a4-4238-81c1-f7185c692ad8",
        "_uuid": "6f418e0dcf4295996e1d0bc048356d7233c0da70",
        "collapsed": true,
        "trusted": true
      },
      "cell_type": "code",
      "source": "import pandas as pd\n# https://github.com/SohierDane/BigQuery_Helper\nfrom bq_helper import BigQueryHelper",
      "execution_count": null,
      "outputs": []
    },
    {
      "metadata": {
        "_cell_guid": "e4894644-27ba-4b1c-8085-366b179f6ec2",
        "_uuid": "641de10f36c5e0b8caec957869a6d40c843da3e2"
      },
      "cell_type": "markdown",
      "source": "### Creating a BigQueryHelper object\nTo start, we use `bq_helper` to create a `BigQueryHelper` object. This requires the project name and dataset name as its two arguments. You can find out the project name and dataset name by clicking on the \"Data\" tab of this kernel. Select any table and you'll see the first two parts of the address (in the blue BigQuery Table box) separated by `.` correspond to the project and dataset names respectively:\n\n* `bigquery-public-data`\n* `github_repos`\n\nLet's create a `BigQueryHelper` object for the GitHub dataset:"
    },
    {
      "metadata": {
        "_cell_guid": "4f2fee89-eb01-4ff5-962a-9aff7ab39169",
        "_uuid": "5cfce1b71299d690d85eed8b6fddd5cecbc18b42",
        "collapsed": true,
        "trusted": true
      },
      "cell_type": "code",
      "source": "bq_assistant = BigQueryHelper(\"bigquery-public-data\", \"github_repos\")",
      "execution_count": null,
      "outputs": []
    },
    {
      "metadata": {
        "_cell_guid": "19986003-2048-4854-8f1e-c4a9fcc5b4fc",
        "_uuid": "869a983df8bcc0b5e7ec55c9f0a95b33dbe59421"
      },
      "cell_type": "markdown",
      "source": "If you're following along in your own kernel, click on the \"Environment Variables\" tab in the console at the bottom of the editor pane. You'll now see a `BigQueryHelper` object in your environment.\n\n### Get to know your data with simple read-only functions\n\nNow that we have our `BigQueryHelper` object for the GitHub dataset, there are a few super simple read-only functions we can use to learn more about the data including:\n\n* Listing tables\n* Getting table schema\n* Inspecting table rows\n\nNext, the simplest read-only task we can do is list all of the tables in the dataset. You can of course preview the tables by looking at the \"Data\" tab, too."
    },
    {
      "metadata": {
        "_cell_guid": "5dabe0b1-bbe1-4a62-ae10-a80c143012e0",
        "_uuid": "44454f36df0d00f8969ccfe4ef0f9f5e4f44c5da",
        "scrolled": true,
        "trusted": true
      },
      "cell_type": "code",
      "source": "%%time\nbq_assistant.list_tables()",
      "execution_count": null,
      "outputs": []
    },
    {
      "metadata": {
        "_cell_guid": "60ac1fb0-c7c4-4c3e-95fe-4dff45b5f99c",
        "_uuid": "c36a43ecc7090abb9daf50e3ae09666e52cad2a2"
      },
      "cell_type": "markdown",
      "source": "Good. We confirm that we see the same 9 tables that are shown in our \"Data\" tab. \n\nThe GitHub BigQuery dataset doesn't have column-level descriptions for any of its tables (otherwise you could also look at them in the \"Data\" tab file previews), but if it did, looking at table schema using `bq_helper` would show them:"
    },
    {
      "metadata": {
        "_cell_guid": "d18a7d01-508b-4a5a-bcfc-7a931265021e",
        "_uuid": "0da037b2523db5405861210dd298f4ae4baaea66",
        "trusted": true
      },
      "cell_type": "code",
      "source": "%%time\nbq_assistant.table_schema(\"licenses\")",
      "execution_count": null,
      "outputs": []
    },
    {
      "metadata": {
        "_cell_guid": "e7a24aec-72ca-4851-9bf2-ad43d49931d7",
        "_uuid": "f109744e17fe078f6dffd5a13cbb201bfd508af7"
      },
      "cell_type": "markdown",
      "source": "Finally, while you can preview the first 100 rows in the table previews in the \"Data\" tab, there's also an efficient way to look at the first few rows using `bq_helper`.\n\nBecause `SELECT *` will scan all rows of the columns you specify (and potentially burn lots of quota), it's best practice to avoid using it especially just to explore your data. Here's how you can look at the first few rows using `head` which uses the efficient `list_rows` function [as Sohier notes](https://www.kaggle.com/sohier/introduction-to-the-bq-helper-package). Let's try it out on the `licenses` table:"
    },
    {
      "metadata": {
        "_cell_guid": "3072abce-6f2c-42fd-b3b4-c194141c9795",
        "_uuid": "4bf4a4ba35a928beee9b80a61fb1416f4dd83a98",
        "trusted": true
      },
      "cell_type": "code",
      "source": "%%time\nbq_assistant.head(\"licenses\", num_rows=10)",
      "execution_count": null,
      "outputs": []
    },
    {
      "metadata": {
        "_cell_guid": "a1b30d8f-9859-40db-a137-450812bdf6e9",
        "_uuid": "c41461d44e15fa3468c0c70df27056d8f8e2558d"
      },
      "cell_type": "markdown",
      "source": "So far, these are the helper functions available in `bq_helper` that will let you get to safely know your data a bit before writing queries. Feel free to let us know if you'd like to see more functionality by opening an issue or submitting a PR to the [GitHub repo](https://github.com/SohierDane/BigQuery_Helper).\n\n### Estimating query size\n\nNow for the really cool part. We're eager to start analyzing the GitHub BigQuery dataset to uncover insights into open source software development, but we should be careful about how much data we scan in our queries. Let's make those free 5TB count!\n\nFortunately, the `bq_helper` module gives us tools to very easily estimate the size of our queries before we get ahead of ourselves. We simply write a `QUERY` using BigQuery's Standard SQL syntax then call the `estimate_query_size` function which will return the size of the query in GB. Let's give it a try.\n\n[In this kernel](https://www.kaggle.com/mrisdal/github-commit-messages), I wrote a query which `SELECTS` 2000 rather short commit messages from the `commits` table. Let's use `estimate_query_size` to see how much data it scans."
    },
    {
      "metadata": {
        "_cell_guid": "c4fdf061-7c34-466e-a1f2-9a0455416f96",
        "_uuid": "c0e006696147d608460e8805e07b56b401762a21",
        "collapsed": true,
        "trusted": true
      },
      "cell_type": "code",
      "source": "QUERY = \"\"\"\n        SELECT message\n        FROM `bigquery-public-data.github_repos.commits`\n        WHERE LENGTH(message) > 6 AND LENGTH(message) <= 20\n        LIMIT 2000\n        \"\"\"",
      "execution_count": null,
      "outputs": []
    },
    {
      "metadata": {
        "_cell_guid": "b61496f7-1603-4d3a-a34a-772d9555472f",
        "_uuid": "db50d49d645c548ec0f36aa5d7ba781cf7a0c4d8",
        "trusted": true
      },
      "cell_type": "code",
      "source": "%%time\nbq_assistant.estimate_query_size(QUERY)",
      "execution_count": null,
      "outputs": []
    },
    {
      "metadata": {
        "_cell_guid": "6b57df42-8ef3-44b7-9f33-f30d4d67afaa",
        "_uuid": "5dd3ee8781fb5b1ef1cbfc43a3d6c04beaf5c930"
      },
      "cell_type": "markdown",
      "source": "The above query would cost me nearly 18GB to run now. Now you can see why it's extremely helpful to know this without needing to actually expend the quota! Note that the query obviously doesn't return an object that's 17.6GB--it's only returning 2000 very short commit messages.\n\nLet's experiment with estimating the size of a query that returns twice as many results:"
    },
    {
      "metadata": {
        "_cell_guid": "db96b17b-2538-4eac-a057-9d0cf1426b9a",
        "_uuid": "2f2f2559c0c419171df978d1ff614dde1231972e",
        "collapsed": true,
        "trusted": true
      },
      "cell_type": "code",
      "source": "QUERY = \"\"\"\n        SELECT message\n        FROM `bigquery-public-data.github_repos.commits`\n        WHERE LENGTH(message) > 6 AND LENGTH(message) <= 20\n        LIMIT 4000 -- twice as many commit messages\n        \"\"\"",
      "execution_count": null,
      "outputs": []
    },
    {
      "metadata": {
        "_cell_guid": "515dab60-0e42-4ff5-869c-10962eb00a97",
        "_uuid": "417b8db1a4f29389621eaf510243a56cef21b144",
        "trusted": true
      },
      "cell_type": "code",
      "source": "%%time\nbq_assistant.estimate_query_size(QUERY)",
      "execution_count": null,
      "outputs": []
    },
    {
      "metadata": {
        "_cell_guid": "a8dd9933-33b1-49d7-bda7-4a85556a0606",
        "_uuid": "1dd2f241dc5317065a3cff8e9201441d1572e20e"
      },
      "cell_type": "markdown",
      "source": "Ah hah. See how it returns the same exact size estimate? This illustrates how using `LIMIT` to reduce the amount of data the query returns doesn't actually change how much data the query is scanning. The latter is what really counts against your quota.\n\nLet's do one more experiment. What about the `WHERE` clause that I included? Let's remove that AND `LIMIT` and see if it increases the amount of data my query scans:"
    },
    {
      "metadata": {
        "_cell_guid": "bac81f18-9f1a-4afe-98aa-295fcc5cfdff",
        "_uuid": "214a2625a5784e8afb5cd450c82e457bc7578e35",
        "trusted": true
      },
      "cell_type": "code",
      "source": "%%time\nQUERY = \"\"\"\n        SELECT message\n        FROM `bigquery-public-data.github_repos.commits`\n        \"\"\"",
      "execution_count": null,
      "outputs": []
    },
    {
      "metadata": {
        "_cell_guid": "a24e1f12-dccb-4067-b501-2cce339a0c1c",
        "_uuid": "8091e9c26bc582e2215e9fc00f4fadad0c502f45",
        "trusted": true
      },
      "cell_type": "code",
      "source": "%%time\nbq_assistant.estimate_query_size(QUERY)",
      "execution_count": null,
      "outputs": []
    },
    {
      "metadata": {
        "_cell_guid": "77d04001-4ce9-40f0-af4c-a0a0745e8279",
        "_uuid": "bfbc9bf0c77c4969d3451bd730ac879bf06f4d3e"
      },
      "cell_type": "markdown",
      "source": "Again, we're scanning the same 17.6GB which we now clearly know is the full size of the `message` field. The lesson here that I hope you'll take away is that the data you're scanning is NOT equivalent to the data you expect the query to return as its result. I encourage you to [check out BigQuery's best practices docs](https://cloud.google.com/bigquery/docs/best-practices) for more information.\n\nDon't be discouraged by this. There is some good news! When you _do_ make a query request, your results will be cached for some time by default. So as long as you're in the same interactive notebook session, you can run the same cell/query multiple times without expending multiples of the quota cost. Whew! This is especially helpful because when you click \"New Snapshot\" to save your work, your kernel will be freshly executed from top to bottom.\n\n### Executing queries safely\n\nNow that we're comfortable with the huge amounts of data at our fingertips and know we can confidently estimate the size of our queries, let's actually fetch some data!\n\nThe `query_to_pandas_safe` function is another `bq_helper` function that makes the call to execute our query. It has two advantages over using the base BigQuery Python client library:\n\n* By default it won't execute a query with a size estimate over 1GB\n* It returns a convenient pandas dataframe\n\nLet's try out `query_to_pandas_safe` on our first query. If it works correctly, the query will fail to execute as we know it scans 17.6GB of data."
    },
    {
      "metadata": {
        "_cell_guid": "dad1843b-f818-4170-836a-942952eccb1e",
        "_uuid": "5dcea1b5f5264ce23ae81a1560ade539bf20e3d2",
        "collapsed": true,
        "trusted": true
      },
      "cell_type": "code",
      "source": "QUERY = \"\"\"\n        SELECT message\n        FROM `bigquery-public-data.github_repos.commits`\n        WHERE LENGTH(message) > 6 AND LENGTH(message) <= 20\n        LIMIT 2000\n        \"\"\"",
      "execution_count": null,
      "outputs": []
    },
    {
      "metadata": {
        "_cell_guid": "e408843c-bdbb-437b-bea8-647d588ca8a9",
        "_uuid": "1e2bda49e999fef20715e4aee79d494d62a7c3fc",
        "trusted": true
      },
      "cell_type": "code",
      "source": "%%time\ndf = bq_assistant.query_to_pandas_safe(QUERY)",
      "execution_count": null,
      "outputs": []
    },
    {
      "metadata": {
        "_cell_guid": "0fa43873-e58e-452c-ad79-e55f3c2b3a1d",
        "_uuid": "a955234067144f785d436bfd2eb5c29c32d971b9"
      },
      "cell_type": "markdown",
      "source": "Thanks to `query_to_pandas_safe` we didn't actually execute a query that was larger than 1GB. Relief! If we were comfortable making a larger query, we would simply add an argument `max_gb_scanned`. To successfully execute this query, I would add `max_gb_scanned=18`.\n\n### Putting it all together in four steps\n\nWe've come a long way in learning how to safely handle large datasets in BigQuery. Let's see if we can put it all together to make a reasonably sized query, get a pandas dataframe back, and visualize the results. Boom.\n\nReturning to my question at the beginning of this kernel, I want to know the licenses most frequently used by projects on GitHub. After writing my query, I will:\n\n1. Estimate the size of my query to make sure it's not too huge\n2. Execute my query using `query_to_pandas_safe` to get my results in a pandas dataframe\n3. Explore the results\n3. Visualize the results"
    },
    {
      "metadata": {
        "_cell_guid": "92bb638a-414b-4386-891b-e201122bb99d",
        "_uuid": "7974fc84ff1ade19961a40de9b44fcfdd4315272",
        "trusted": true,
        "collapsed": true
      },
      "cell_type": "code",
      "source": "QUERY = \"\"\"\n        SELECT license, COUNT(*) AS count\n        FROM `bigquery-public-data.github_repos.licenses`\n        GROUP BY license\n        ORDER BY COUNT(*) DESC\n        \"\"\"",
      "execution_count": null,
      "outputs": []
    },
    {
      "metadata": {
        "_cell_guid": "2fcc3df4-7706-4da5-acc1-57382da41c58",
        "_uuid": "61bb180a9263a9939d604d316405676037b4cafc"
      },
      "cell_type": "markdown",
      "source": "#### Step 1. Estimate the size of the query I've written above."
    },
    {
      "metadata": {
        "_cell_guid": "844c4cf9-1d70-43b0-bedc-740d397c5cc8",
        "_uuid": "4e62aa4e1e5a3cadc0a251004c75a14b9b6b6cf3",
        "trusted": true
      },
      "cell_type": "code",
      "source": "%%time\nbq_assistant.estimate_query_size(QUERY)",
      "execution_count": null,
      "outputs": []
    },
    {
      "metadata": {
        "_cell_guid": "98d43bdf-a04c-4132-a608-364ce1b36b25",
        "_uuid": "426b31ec680f006611c3a6a5881dc6e39fc0ee88"
      },
      "cell_type": "markdown",
      "source": "Executing this query will only cost me 0.02 GB which I'm comfortable with given my 5TB 30-day quota. \n\n#### Step 2. Use `query_to_pandas_safe` to get the results back as a pandas dataframe:"
    },
    {
      "metadata": {
        "_cell_guid": "f04e29c8-d340-4468-a426-f9eead0d9dc7",
        "_uuid": "81f1a2dba86ae5364f1079685c3e9a4c804f850a",
        "trusted": true
      },
      "cell_type": "code",
      "source": "%%time\ndf = bq_assistant.query_to_pandas_safe(QUERY)",
      "execution_count": null,
      "outputs": []
    },
    {
      "metadata": {
        "_cell_guid": "e1c02c02-a5fc-4ce3-a952-20fd19a3bdb7",
        "_uuid": "03db78410b0135e8697e61eac89f8acc920ca92f"
      },
      "cell_type": "markdown",
      "source": "Ahh, perfect silence. Because my query scanned less than 1GB of data, it executed without canceling. \n\n#### Step 3. Explore the results of the query\n\nNow that our results are in a pandas dataframe, the data is super easy to manipulate. Let's check out the size of our dataframe and compare to the amount of data we know we scanned (0.02GB):"
    },
    {
      "metadata": {
        "_cell_guid": "5757042c-6235-4e0f-844c-077637b916fe",
        "_uuid": "8ae523e251fa243c10ff13ce5b5dbd70b64d1114",
        "collapsed": true,
        "trusted": true
      },
      "cell_type": "code",
      "source": "print('Size of dataframe: {} Bytes'.format(int(df.memory_usage(index=True, deep=True).sum())))",
      "execution_count": null,
      "outputs": []
    },
    {
      "metadata": {
        "_cell_guid": "691e8d7c-0471-496d-8046-396040af0b0d",
        "_uuid": "868604eb0451508f9ff89ba89d78974544ede97c"
      },
      "cell_type": "markdown",
      "source": "Much, much smaller! Again, this is to reiterate that the data you scan is much different from the results you get back from your query. This is again because BigQuery is scanning the entire contents of the `license` field in the `licenses` table. \n\nNow we can take a look at the first few rows returned:"
    },
    {
      "metadata": {
        "_cell_guid": "31b51db3-4b28-42f2-8075-23f1b2137af9",
        "_uuid": "a3bbdbda054f32754b265bf1ab59638d1345f4dd",
        "collapsed": true,
        "trusted": true
      },
      "cell_type": "code",
      "source": "df.head()",
      "execution_count": null,
      "outputs": []
    },
    {
      "metadata": {
        "_cell_guid": "cf88f61e-1461-492b-8b45-598e3b9ffdd2",
        "_uuid": "34becfc1cbb69e186f24501fcdcc1ff67a690a3f"
      },
      "cell_type": "markdown",
      "source": "It's clear that the MIT license is the most popular among open source projects in the GitHub BigQuery dataset. How many licenses did we return, anyway?"
    },
    {
      "metadata": {
        "_cell_guid": "37581b51-7de6-42e5-b08b-b8c0196c61bd",
        "_uuid": "565d758bf0dfc13016a12bbff9c7118afc7a7a6a",
        "collapsed": true,
        "trusted": true
      },
      "cell_type": "code",
      "source": "df.shape",
      "execution_count": null,
      "outputs": []
    },
    {
      "metadata": {
        "_cell_guid": "68a00422-fa35-4542-9905-72b1935ab9c9",
        "_uuid": "8faf283d47d428e7683f896115ad2119104767f9"
      },
      "cell_type": "markdown",
      "source": "We've got the counts for each of fifteen licenses used in the dataset.\n\n#### Step 4. Visualize the results\n\nThe results of our query (and our efforts learning BigQuery) will all become real once we visualize them! I'm going to use `matplotlib` with `seaborn` to create a bar plot showing the count of GitHub projects by type of license."
    },
    {
      "metadata": {
        "_cell_guid": "bf0be8fc-2737-4e9e-80b4-8e672a94433e",
        "_uuid": "81e1ec3174bb30274c212f9819b5a94fae7284e5",
        "collapsed": true,
        "trusted": true
      },
      "cell_type": "code",
      "source": "import matplotlib.pyplot as plt\nimport seaborn as sns\n%matplotlib inline\nplt.style.use('ggplot')",
      "execution_count": null,
      "outputs": []
    },
    {
      "metadata": {
        "_cell_guid": "63321c89-fc40-4fc6-9dc7-be69dfc2214c",
        "_uuid": "16aae0ef6adf79dd8028f271cf595717f7713997",
        "collapsed": true,
        "trusted": true
      },
      "cell_type": "code",
      "source": "sns.set_context(\"notebook\", font_scale=1.5, rc={\"lines.linewidth\": 2.5})\n\nf, g = plt.subplots(figsize=(12, 9))\ng = sns.barplot(x=\"license\", y=\"count\", data=df, palette=\"Blues_d\")\ng.set_xticklabels(g.get_xticklabels(), rotation=30)\nplt.title(\"Popularity of Licenses Used by Open Source Projects on GitHub\")\nplt.show(g)",
      "execution_count": null,
      "outputs": []
    },
    {
      "metadata": {
        "_cell_guid": "69efc2e3-3bfd-46cd-a53e-20d37b466cab",
        "_uuid": "e4b6896d6855f9405e258442ed973eadeadb1f1e"
      },
      "cell_type": "markdown",
      "source": "Beautiful! We already knew that MIT was the most popular license by far, but here we see it in plain contrast to the next most common licenses, Apache 2.0 and GPL 2.0 and 3.0. For the record, this kernel is Apache 2.0-licensed. :)\n\n## Conclusion\n\nI hope you've enjoyed this kernel and learned at least something new. I know I felt confident about exploring this massive 3TB dataset knowing the functions available to me in `bq_helper` would prevent me from accidentally exceeding my quota. Here are some additional resources for working with BigQuery datasets in Kaggle Kernels:\n\n* New to SQL? Learn this practical language by signing up for our [5-day SQL Scavenger Hunt](https://www.kaggle.com/sql-scavenger-hunt) which starts February 15th\n* [A collection of all BigQuery resources on Kaggle](https://www.kaggle.com/product-feedback/48573)\n* [Learn more about the BigQuery Python client library here](https://www.kaggle.com/sohier/beyond-queries-exploring-the-bigquery-api)\n* Explore [all BigQuery datasets available on Kaggle](https://www.kaggle.com/datasets?filetype=bigQuery)--each has its own \"starter kernel\" for you to fork"
    }
  ],
  "metadata": {
    "kernelspec": {
      "display_name": "Python 3",
      "language": "python",
      "name": "python3"
    },
    "language_info": {
      "name": "python",
      "version": "3.6.6",
      "mimetype": "text/x-python",
      "codemirror_mode": {
        "name": "ipython",
        "version": 3
      },
      "pygments_lexer": "ipython3",
      "nbconvert_exporter": "python",
      "file_extension": ".py"
    }
  },
  "nbformat": 4,
  "nbformat_minor": 1
}