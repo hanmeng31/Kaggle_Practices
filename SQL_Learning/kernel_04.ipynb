{
  "cells": [
    {
      "metadata": {
        "_uuid": "8f2839f25d086af736a60e9eeb907d3b93b6e0e5",
        "collapsed": true,
        "_cell_guid": "b1076dfc-b9ad-4769-8c92-a6c4dae69d19"
      },
      "cell_type": "markdown",
      "source": "# Intro\n\nSo far, we've learned how to use the following clauses: \n    \n    SELECT ... \n    FROM ...\n    (WHERE) ...\n    GROUP BY ...\n    (HAVING) ...\nWe also learned how to use the COUNT() aggregate function and, if you did the optional extra credit, possibly other aggregate functions as well. (If any of this is sounds unfamiliar to you, you can check out the earlier two days using the links above.)\n\nToday we're going to learn how change the order that data is returned to us using the ORDER BY clause. We're also going to talk a little bit about how to work with dates in SQL, because they're sort of their own thing and can lead to headaches if you're unfamiliar with them.\n\n\n### ORDER BY\n___\n\nFirst, let's learn how to use ORDER BY. ORDER BY is usually the last clause you'll put in your query, since you're going to want to use it to sort the results returned by the rest of your query.\n\nWe're going to be making queries against this version of the table we've been using an example over the past few days. \n\n> **Why would the order of a table change?** This can actually happen to active BigQuery datasets, since if your table is being added to regularly [it may be coalesced every so often and that will change the order of the data in your table](https://stackoverflow.com/questions/16854116/the-order-of-records-in-a-regularly-updated-bigquery-databaseg). \n\nYou'll notice that, unlike in earlier days, our table is no longer sorted by the ID column. \n\n![](https://i.imgur.com/QRgb4iL.png). \n\n** Ordering by a numeric column**\n\nWhen you ORDER BY a numeric column, by default the column will be sorted from the lowest to highest number. So this query will return the ID, Name and Animal columns, all sorted by the number in the ID column. The row with the lowest number in the ID column will be returned first.\n\n    SELECT ID, Name, Animal\n    FROM `bigquery-public-data.pet_records.pets`\n    ORDER BY ID\nVisually, this looks something like this:\n\n![](https://i.imgur.com/zEXDTKS.png)\n\n    \n** Ordering by a text column**\n\nYou can also order by columns that have text in them. By default, the column you sort on will be sorted alphabetically from the beginning to the end of the alphabet.\n\n    SELECT ID, Name, Animal\n    FROM `bigquery-public-data.pet_records.pets`\n    ORDER BY Animal\n![](https://i.imgur.com/E7qjnf9.png)\n\n** Reversing the order**\n\nYou can reverse the sort order (reverse alphabetical order for text columns or high to low for numeric columns) using the DESC argument. \n\n> ** DESC** is short for \"descending\", or high-to-low.\n\nSo this query will sort the selected columns by the Animal column, but the values that are last in alphabetic order will be returned first.\n\n    SELECT ID, Name, Animal\n    FROM `bigquery-public-data.pet_records.pets`\n    ORDER BY Animal DESC\n![](https://i.imgur.com/DREYNFF.png)\n \n### Dates\n____\n\nFinally, let's talk about dates. I'm including these because they are something that I found particularly confusing when I first learned SQL, and I ended up having to use them all. the. time. \n\nThere are two different ways that a date can be stored in BigQuery: as a DATE or as a DATETIME. Here's a quick summary:\n\n**DATE format**\n\nThe DATE format has the year first, then the month, and then the day. It looks like this:\n\n    YYYY-[M]M-[D]D\n* YYYY: Four-digit year\n* [M]M: One or two digit month\n* [D]D: One or two digit day\n\n**DATETIME/TIMESTAMP format**\n\nThe DATETIME format is just like the date format... but with time added at the end. (The difference between DATETIME and TIMESTAMP is that the date and time information in a DATETIME is based on a specific timezone. On the other hand, a TIMESTAMP will be the same in all time zones, except for the time zone) . Both formats look like this:\n\n    YYYY-[M]M-[D]D[( |T)[H]H:[M]M:[S]S[.DDDDDD]][time zone]\n* YYYY: Four-digit year\n* [M]M: One or two digit month\n* [D]D: One or two digit day\n* ( |T): A space or a T separator\n* [H]H: One or two digit hour (valid values from 00 to 23)\n* [M]M: One or two digit minutes (valid values from 00 to 59)\n* [S]S: One or two digit seconds (valid values from 00 to 59)\n* [.DDDDDD]: Up to six fractional digits (i.e. up to microsecond precision)\n* (TIMESTAMP only) [time zone]: String representing the time zone\n\n** Getting only part of a date **\n\nOften, though, you'll only want to look at part of a date, like the year or the day. You can do this using the EXTRACT function and specifying what part of the date you'd like to extract. \n\nSo this query will return one column with just the day of each date in the column_with_timestamp column: \n\n            SELECT EXTRACT(DAY FROM column_with_timestamp)\n            FROM `bigquery-public-data.imaginary_dataset.imaginary_table`\nOne of the nice things about SQL is that it's very smart about dates and we can ask for information beyond just extracting part of the cell. For example, this query will return one column with just the week in the year (between 1 and 53) of each date in the column_with_timestamp column: \n\n            SELECT EXTRACT(WEEK FROM column_with_timestamp)\n            FROM `bigquery-public-data.imaginary_dataset.imaginary_table`\nSQL has a lot of power when it comes to dates, and that lets you ask very specific questions using this information. You can find all the functions you can use with dates in BigQuery [on this page](https://cloud.google.com/bigquery/docs/reference/legacy-sql), under \"Date and time functions\".  "
    },
    {
      "metadata": {
        "_uuid": "d629ff2d2480ee46fbb7e2d37f6b5fab8052498a",
        "collapsed": true,
        "_cell_guid": "79c7e3d0-c299-4dcb-8224-4455121ee9b0"
      },
      "cell_type": "markdown",
      "source": "## Example: Which day of the week do the most fatal motor accidents happen on?\n___\n\nNow we're ready to work through an example. Today, we're going to be using the US Traffic Fatality Records database, which contains information on traffic accidents in the US where at least one person died. (It's definitely a sad topic, but if we can understand this data and the trends in it we can use that information to help prevent additional accidents.)\n\nFirst, we need to get our environment set up. Since you already know how to look at schema information at this point, I'm going to let you do that on your own. \n\n> **Important note:** Make sure that you add the BigQuery dataset you're querying to your kernel. Otherwise you'll get "
    },
    {
      "metadata": {
        "_uuid": "b39aa798d938ba16b3c63b0ee29a40f11a9ea46d",
        "collapsed": true,
        "_cell_guid": "1944017b-4fe2-4cee-a6d6-2738ae269a34",
        "trusted": false
      },
      "cell_type": "code",
      "source": "# import package with helper functions \nimport bq_helper\n\n# create a helper object for this dataset\naccidents = bq_helper.BigQueryHelper(active_project=\"bigquery-public-data\",\n                                   dataset_name=\"nhtsa_traffic_fatalities\")",
      "execution_count": null,
      "outputs": []
    },
    {
      "metadata": {
        "_uuid": "04bc8a63d27d7523fad1f0c6e7245e1bd2f5cc57",
        "_cell_guid": "4359c8fe-dd1d-4807-a031-b269f54eab5a"
      },
      "cell_type": "markdown",
      "source": "We're going to look at which day of the week the most fatal traffic accidents happen on. I'm going to get the count of the unique id's (in this table they're called \"consecutive_number\") as well as the day of the week for each accident. Then I'm going sort my table so that the days with the most accidents are on returned first."
    },
    {
      "metadata": {
        "_uuid": "feaf4d91fa1912726a6856cad1af77b9e4add412",
        "collapsed": true,
        "_cell_guid": "9afe0db2-dadb-4316-893c-d2f74b781f03",
        "trusted": false
      },
      "cell_type": "code",
      "source": "# query to find out the number of accidents which \n# happen on each day of the week\nquery = \"\"\"SELECT COUNT(consecutive_number), \n                  EXTRACT(DAYOFWEEK FROM timestamp_of_crash)\n            FROM `bigquery-public-data.nhtsa_traffic_fatalities.accident_2015`\n            GROUP BY EXTRACT(DAYOFWEEK FROM timestamp_of_crash)\n            ORDER BY COUNT(consecutive_number) DESC\n        \"\"\"",
      "execution_count": null,
      "outputs": []
    },
    {
      "metadata": {
        "_uuid": "793a8a709cb9091b42de8155b4a97088e6bc4a66",
        "_cell_guid": "fe4f1ed8-e3ef-42cf-9d93-76633f0cba4f"
      },
      "cell_type": "markdown",
      "source": "Now that our query is ready, let's run it (safely!) and store the results in a dataframe: "
    },
    {
      "metadata": {
        "_uuid": "9460374a5fff48df394c28479574c1c6edf36c3d",
        "collapsed": true,
        "_cell_guid": "70669540-cc43-4d71-833e-3cccb00789b0",
        "trusted": false
      },
      "cell_type": "code",
      "source": "# the query_to_pandas_safe method will cancel the query if\n# it would use too much of your quota, with the limit set \n# to 1 GB by default\naccidents_by_day = accidents.query_to_pandas_safe(query)",
      "execution_count": null,
      "outputs": []
    },
    {
      "metadata": {
        "_uuid": "e0ebc969b8391a5e91c0b6adf9d8397d2fc805d9",
        "_cell_guid": "85bd7f87-a1ac-4b29-a9c7-e1e2436e162d"
      },
      "cell_type": "markdown",
      "source": "And that gives us a dataframe! Let's quickly plot our data to make sure that it's actually been sorted:"
    },
    {
      "metadata": {
        "_uuid": "fb9a7cb81b14c1b0c326195ff969a7df6dd0612d",
        "collapsed": true,
        "_cell_guid": "1eda3bc6-f856-4c80-9c34-a0b23e5a2f3a",
        "trusted": false
      },
      "cell_type": "code",
      "source": "# library for plotting\nimport matplotlib.pyplot as plt\n\n# make a plot to show that our data is, actually, sorted:\nplt.plot(accidents_by_day.f0_)\nplt.title(\"Number of Accidents by Rank of Day \\n (Most to least dangerous)\")",
      "execution_count": null,
      "outputs": []
    },
    {
      "metadata": {
        "_uuid": "b2b69ae0676ac8e1af1af9c05728696b0b5df024",
        "_cell_guid": "a476a632-d28f-4acf-8633-7e55ded22a5c"
      },
      "cell_type": "markdown",
      "source": "Yep, our query was, in fact, returned sorted! Now let's take a quick peek to figure out which days are the most dangerous:"
    },
    {
      "metadata": {
        "_uuid": "7dea7c2371b21f6e35fbd2c41d6382bb08497311",
        "collapsed": true,
        "_cell_guid": "65c0b1e0-0478-49d8-beb9-43b1f8284aa9",
        "trusted": false
      },
      "cell_type": "code",
      "source": "print(accidents_by_day)",
      "execution_count": null,
      "outputs": []
    },
    {
      "metadata": {
        "_uuid": "33de81bcf00f403a0e474b91c63f053ebaf3cb94",
        "_cell_guid": "3d6c4f62-5f65-498e-8755-1b7fe84b5df4"
      },
      "cell_type": "markdown",
      "source": "To map from the numbers returned for the day of the week (the second column) to the actual day, I consulted [the BigQuery documentation on the DAYOFWEEK function](https://cloud.google.com/bigquery/docs/reference/legacy-sql#dayofweek), which says that it returns \"an integer between 1 (Sunday) and 7 (Saturday), inclusively\". So we can tell, based on our query, that in 2015 most fatal motor accidents occur on Sunday and Saturday, while the fewest happen on Tuesday."
    },
    {
      "metadata": {
        "_uuid": "ad7c7ed18489af13162816c0c5764ad8de0fd722",
        "_cell_guid": "a5635766-739e-4254-8112-fbbbd9de4a4d"
      },
      "cell_type": "markdown",
      "source": "# Your Turn\nDo **[this exercise](https://www.kaggle.com/dansbecker/exercise-order-by)** to apply ORDER BY yourself.\n\n\n----\n\n*This tutorial is part of the [SQL Series](https://www.kaggle.com/learn/sql) on Kaggle Learn.*"
    }
  ],
  "metadata": {
    "kernelspec": {
      "display_name": "Python 3",
      "language": "python",
      "name": "python3"
    },
    "language_info": {
      "name": "python",
      "version": "3.6.4",
      "mimetype": "text/x-python",
      "codemirror_mode": {
        "name": "ipython",
        "version": 3
      },
      "pygments_lexer": "ipython3",
      "nbconvert_exporter": "python",
      "file_extension": ".py"
    }
  },
  "nbformat": 4,
  "nbformat_minor": 1
}